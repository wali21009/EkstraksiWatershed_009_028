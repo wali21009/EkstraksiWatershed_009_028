{
  "nbformat": 4,
  "nbformat_minor": 0,
  "metadata": {
    "colab": {
      "provenance": [],
      "authorship_tag": "ABX9TyNmRL+tQHS+crEX0uLBNUmQ",
      "include_colab_link": true
    },
    "kernelspec": {
      "name": "python3",
      "display_name": "Python 3"
    },
    "language_info": {
      "name": "python"
    }
  },
  "cells": [
    {
      "cell_type": "markdown",
      "metadata": {
        "id": "view-in-github",
        "colab_type": "text"
      },
      "source": [
        "<a href=\"https://colab.research.google.com/github/wali21009/EkstraksiWatershed_009_028/blob/main/Ekstraksi_Watershed.ipynb\" target=\"_parent\"><img src=\"https://colab.research.google.com/assets/colab-badge.svg\" alt=\"Open In Colab\"/></a>"
      ]
    },
    {
      "cell_type": "code",
      "execution_count": 10,
      "metadata": {
        "colab": {
          "base_uri": "https://localhost:8080/"
        },
        "id": "9tfmIYoMf_sd",
        "outputId": "850cb421-27bf-4bae-e937-9809f26494d3"
      },
      "outputs": [
        {
          "output_type": "stream",
          "name": "stdout",
          "text": [
            "Looking in indexes: https://pypi.org/simple, https://us-python.pkg.dev/colab-wheels/public/simple/\n",
            "Requirement already satisfied: opencv-python-headless in /usr/local/lib/python3.10/dist-packages (4.7.0.72)\n",
            "Requirement already satisfied: numpy>=1.17.0 in /usr/local/lib/python3.10/dist-packages (from opencv-python-headless) (1.22.4)\n"
          ]
        }
      ],
      "source": [
        "!pip install opencv-python-headless"
      ]
    },
    {
      "cell_type": "code",
      "source": [
        "import cv2\n",
        "import numpy as np\n",
        "import matplotlib.pyplot as plt\n",
        "\n",
        "# Load image\n",
        "img = cv2.imread(\"tomato.png\")\n",
        "\n",
        "# Convert to grayscale\n",
        "gray = cv2.cvtColor(img, cv2.COLOR_BGR2GRAY)\n",
        "\n",
        "# Thresholding\n",
        "ret, thresh = cv2.threshold(gray, 0, 255, cv2.THRESH_BINARY_INV+cv2.THRESH_OTSU)\n",
        "\n",
        "# Noise removal\n",
        "kernel = np.ones((3,3), np.uint8)\n",
        "opening = cv2.morphologyEx(thresh, cv2.MORPH_OPEN, kernel, iterations=2)\n",
        "\n",
        "# Sure background area\n",
        "sure_bg = cv2.dilate(opening, kernel, iterations=3)\n",
        "\n",
        "# Finding sure foreground area\n",
        "dist_transform = cv2.distanceTransform(opening, cv2.DIST_L2, 5)\n",
        "ret, sure_fg = cv2.threshold(dist_transform, 0.7*dist_transform.max(), 255, 0)\n",
        "\n",
        "# Finding unknown region\n",
        "sure_fg = np.uint8(sure_fg)\n",
        "unknown = cv2.subtract(sure_bg, sure_fg)\n",
        "\n",
        "# Marker labelling\n",
        "ret, markers = cv2.connectedComponents(sure_fg)\n",
        "\n",
        "# Add one to all labels so that sure background is not 0, but 1\n",
        "markers = markers + 1\n",
        "\n",
        "# Mark the unknown region with 0\n",
        "markers[unknown==255] = 0\n",
        "\n",
        "# Apply watershed\n",
        "markers = cv2.watershed(img, markers)\n",
        "\n",
        "# Count the number of objects\n",
        "num_objects = len(np.unique(markers)) - 1\n",
        "\n",
        "# Display the number of objects\n",
        "print(\"Number of objects:\", num_objects)\n",
        "\n",
        "# Display the mask image\n",
        "mask = np.zeros(img.shape, dtype=np.uint8)\n",
        "mask[markers == -1] = (0, 0, 255)\n",
        "\n",
        "plt.imshow(cv2.cvtColor(mask, cv2.COLOR_BGR2RGB))\n",
        "plt.show()"
      ],
      "metadata": {
        "colab": {
          "base_uri": "https://localhost:8080/",
          "height": 452
        },
        "id": "ZeU8vqcKgBSn",
        "outputId": "6e160373-89dc-448b-c37f-350767fd6797"
      },
      "execution_count": 16,
      "outputs": [
        {
          "output_type": "stream",
          "name": "stdout",
          "text": [
            "Number of objects: 2\n"
          ]
        },
        {
          "output_type": "display_data",
          "data": {
            "text/plain": [
              "<Figure size 640x480 with 1 Axes>"
            ],
            "image/png": "[encoded data removed]"
          },
          "metadata": {}
        }
      ]
    }
  ]
}
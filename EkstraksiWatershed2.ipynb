{
  "nbformat": 4,
  "nbformat_minor": 0,
  "metadata": {
    "colab": {
      "provenance": [],
      "authorship_tag": "ABX9TyNBG8+/cfpKWbI1Z8DDNHcl",
      "include_colab_link": true
    },
    "kernelspec": {
      "name": "python3",
      "display_name": "Python 3"
    },
    "language_info": {
      "name": "python"
    }
  },
  "cells": [
    {
      "cell_type": "markdown",
      "metadata": {
        "id": "view-in-github",
        "colab_type": "text"
      },
      "source": [
        "<a href=\"https://colab.research.google.com/github/wali21009/EkstraksiWatershed_009_028/blob/main/EkstraksiWatershed2.ipynb\" target=\"_parent\"><img src=\"https://colab.research.google.com/assets/colab-badge.svg\" alt=\"Open In Colab\"/></a>"
      ]
    },
    {
      "cell_type": "code",
      "execution_count": 11,
      "metadata": {
        "colab": {
          "base_uri": "https://localhost:8080/",
          "height": 406
        },
        "id": "wexGujXMtXVE",
        "outputId": "976c7c04-6cfa-4c51-f202-34ef8be35d1e"
      },
      "outputs": [
        {
          "output_type": "stream",
          "name": "stdout",
          "text": [
            "Number of objects:  3\n"
          ]
        },
        {
          "output_type": "display_data",
          "data": {
            "text/plain": [
              "<Figure size 640x480 with 1 Axes>"
            ],
            "image/png": "[encoded data removed]"
          },
          "metadata": {}
        }
      ],
      "source": [
        "import cv2\n",
        "import numpy as np\n",
        "import matplotlib.pyplot as plt\n",
        "\n",
        "# Load the image\n",
        "img = cv2.imread('mango.jpeg')\n",
        "\n",
        "# Convert the image to grayscale\n",
        "gray = cv2.cvtColor(img, cv2.COLOR_BGR2GRAY)\n",
        "\n",
        "# Threshold the image\n",
        "ret, thresh = cv2.threshold(gray, 0, 255, cv2.THRESH_BINARY_INV+cv2.THRESH_OTSU)\n",
        "\n",
        "# Morphological opening\n",
        "kernel = np.ones((3,3), np.uint8)\n",
        "opening = cv2.morphologyEx(thresh,cv2.MORPH_OPEN,kernel,iterations=2)\n",
        "\n",
        "# Sure background area\n",
        "sure_bg = cv2.dilate(opening,kernel,iterations=3)\n",
        "\n",
        "# Finding sure foreground area\n",
        "dist_transform = cv2.distanceTransform(opening,cv2.DIST_L2,5)\n",
        "ret, sure_fg = cv2.threshold(dist_transform,0.7*dist_transform.max(),255,0)\n",
        "\n",
        "# Finding unknown region\n",
        "sure_fg = np.uint8(sure_fg)\n",
        "unknown = cv2.subtract(sure_bg,sure_fg)\n",
        "\n",
        "# Marker labelling\n",
        "ret, markers = cv2.connectedComponents(sure_fg)\n",
        "\n",
        "# Add one to all labels so that sure background is not 0, but 1\n",
        "markers = markers+1\n",
        "\n",
        "# Now, mark the region of unknown with zero\n",
        "markers[unknown==255] = 0\n",
        "\n",
        "# Apply watershed\n",
        "markers = cv2.watershed(img,markers)\n",
        "\n",
        "# Create a mask for the watershed region\n",
        "mask = np.zeros_like(img)\n",
        "mask[markers == -1] = [0, 0, 255]\n",
        "\n",
        "# Apply the mask to the original image\n",
        "result = cv2.bitwise_and(img, mask)\n",
        "\n",
        "# Count the number of objects\n",
        "num_objects = markers.max() - 1\n",
        "\n",
        "print('Number of objects: ', num_objects)\n",
        "\n",
        "# Show the result\n",
        "plt.imshow(result[:,:,::-1])\n",
        "plt.title('Result')\n",
        "plt.axis('off')\n",
        "plt.show()"
      ]
    }
  ]
}